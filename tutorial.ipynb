{
 "cells": [
  {
   "cell_type": "markdown",
   "metadata": {},
   "source": [
    "# FIESTA2017 Jupyter Notebook Tutorial"
   ]
  },
  {
   "cell_type": "markdown",
   "metadata": {},
   "source": [
    "FIESTA2017, <a href=\"http://t2.lanl.gov/fiesta2017\" target=\"_new\">t2.lanl.gov/fiesta2017</a> <br />\n",
    "Sep. 17-22, 2017 <br />\n",
    "Santa Fe, NM, USA"
   ]
  },
  {
   "cell_type": "markdown",
   "metadata": {},
   "source": [
    "Thank you for agreeing to lead a practice session at FIESTA2017, we are excited that you have chosen to help train the next generation of scientists studying nuclear fission.  We have decided to use Python based Jupyter notebooks for all of the practice sessions at FIESTA17.  This document is meant to serve as a tutorial for creating your own notebook and will demonstrate some of the powerful features of this format and Python in general.  Your notebook will not only be used for the upcoming school, but will also be posted on the FIESTA2017 website where it will serve as an interactive document for young students and postdocs in the field.  Finally, we will provide feedback on the content of your exercises, and we will also be available to help develop your notebook. "
   ]
  },
  {
   "cell_type": "markdown",
   "metadata": {},
   "source": [
    "FIESTA2017 Local Organizing Committee <br />\n",
    "Patrick Talou (chair) <br />\n",
    "Fredrik Tovesson <br />\n",
    "Morgan C. White <br />\n",
    "Dana L. Duke <br />\n",
    "Brett Manning <br />\n",
    "Denise Neudecker <br />\n",
    "Gencho Rusev <br />\n",
    "Ionel Stetcu "
   ]
  },
  {
   "cell_type": "markdown",
   "metadata": {},
   "source": [
    "## Table of Contents"
   ]
  },
  {
   "cell_type": "markdown",
   "metadata": {},
   "source": [
    "<ul>\n",
    "<li><a href=\"#WhyJupyter\">Why Python Based Jupyter Notebooks?</a></li>\n",
    "<li><a href=\"#JupyterBasics\">Jupyter Basics</a></li>\n",
    "<li><a href=\"#PythonBasics\">Python Basics</a></li>\n",
    "<li><a href=\"#AddInfo\">Additional Information</a></li>\n",
    "</ul>"
   ]
  },
  {
   "cell_type": "markdown",
   "metadata": {},
   "source": [
    "<a id=\"WhyJupyter\"></a>\n",
    "\n",
    "# Why Python Based Jupyter Notebooks?"
   ]
  },
  {
   "cell_type": "markdown",
   "metadata": {},
   "source": [
    "### History of Jupyter\n",
    "<a href=\"http://jupyter.org/\">Jupyter</a> notebooks grew out of the <a href=\"https://ipython.org/\">IPython</a> project: a Python based interactive programming environment.  The original IPython notebook was first released in 2011 and is an excellent example of literate programming.  This approach to programming allows human-friendly text to coexist with code blocks. It is ideal for demonstration and teaching objectives and was even featured in <a href=\"http://www.nature.com/news/interactive-notebooks-sharing-the-code-1.16261\" target="_new">Nature</a> for its applications in research.  There a numberous examples of literate programming software packages such as Mathematica and Matlab, but IPython notebooks represented one of the first open-source options. \n",
    "\n",
    "IPython notebooks exploded in popularity in 2013 when the IPython team won a Sloan Foundation Grant to further develop this technology.  The team expanded the concept to include additional programming languages and was therefore renamed Jupyter; an acronym representing the supported languages of Julia, Python and R.  The project has continued to grow and increase the number of supported languages. \n",
    "\n",
    "### What is a Jupyter Notebook?\n",
    "A Jupyter notebook is a document, an environment, and a web app all at once.  More to the point, a Jupyter notebook is a local desktop application where the user interface (UI) lives in a web browser.  There are several advantages to these notebooks that make them a good choice for instructional settings such as FIESTA2017.  Jupyter notebooks are easy to develop relative to other web UI toolkits, as only some basic HTML and JavaScript is required.   Perhaps more importantly for an educationcal setting, the server can be run remotely, so the user does not even need to have Python installed locally. \n",
    "\n",
    "Jupyter notebooks are viewed as a series of “cells” containing executable code or markdown (HTML markup language) for human-friendly text. They offer LaTeX support for mathematical equations, and easily allow for hyperlinks and embedded images.  These notebooks are saved in the .ipynb format and are offer many features common to Interactive Development Environments (IDEs) such as code completion.  The notebook can be easily shared with users to create a reproducible enviroment for instruction and coding."
   ]
  },
  {
   "cell_type": "markdown",
   "metadata": {},
   "source": [
    "<a id=\"JupyterBasics\"></a>\n",
    "# Jupyter Basics"
   ]
  },
  {
   "cell_type": "markdown",
   "metadata": {},
   "source": [
    "This section will provide an introduction for creating a new notebook as well as managing and executing the two cell types: markdown and code.  Further information will be provided for including features such as LaTeX, hyperlinks, and images. "
   ]
  },
  {
   "cell_type": "markdown",
   "metadata": {},
   "source": [
    "### Getting Started: Creating, Managing, and Executing a Jupyter Notebook\n",
    "Before you can get started you must have <a href=\"https://www.python.org/downloads/\">Python</a> and <a href=\"http://jupyter.readthedocs.io/en/latest/install.html\">Jupyter</a> installed on your computer.  <br />\n",
    "\n",
    "Now that you are ready to create your first Jupyter notebook you have two options: work from an existing template such as this one or create a new document.  To get started type <i>jupyter notebook</i> in a shell prompt and the web browser will open similar to the image below.    <br/ >\n",
    "\n",
    "<img src=\"start_jupyter.png\">\n",
    "\n",
    "To create a new Python notebook, click on the <i>New</i> button on the right and select <i>Python 2</i>.\n",
    "\n",
    "<img src=\"new_document.png\">\n",
    "\n",
    "You can also open an existing notebook by double-clicking on one of the file.  Recall that Jupyter notebooks have the file extension <i>.ipynb</i>. Once you open a new notebook the web browser should look like the image below.  <br />\n",
    "\n",
    "<img src=\"new_notebook.png\">\n",
    "\n",
    "Note that there is already a cell present in the notebook.  The cell is currently a <i>code</i> cell as indicated by the drop down menu in the tool bar.  You can click on this menu to change the cell type.  \n",
    "\n",
    "<img src=\"change_cell.png\">\n",
    "\n",
    "Or, you can click on the <i>Cell</i> menu and navigate to <i>Cell Type</i>.\n",
    "\n",
    "<img src=\"change_cell_2.png\">\n",
    "\n",
    "For this example I set the cell type to <i>Markdown</i> and typed <i>My first Jupyter notebook</i>. \n",
    "\n",
    "<img src=\"cell_mark.png\">\n",
    "\n",
    "Navigating to the <i>Cell</i> menu we see various options for running an individual cell or running all cells.  There are also <a href=\"http://maxmelnick.com/2016/04/19/python-beginner-tips-and-tricks.html\">shortcuts</a> for executing cells: run cell (<i>ctrl + enter</i>), run cell and then select the cell below (<i>shift + enter</i>), and run cell and then enter a new cell below (<i>alt + enter</i>).  \n",
    "\n",
    "<img src=\"cell_execute.png\">\n",
    "\n",
    "For the moment we will run the current cell by typing <i>ctrl + enter</i>.  \n",
    "\n",
    "<img src=\"cell_executed.png\">\n",
    "\n",
    "The markdown cell now displays as rich-text and there is no additional cell since we did not choose this option.  A new cell can be inserted from the <i>Insert</i> menu.  Selecting <i>Insert Cell Below</i>.  A new <i>code</i> cell is inserted.\n",
    "\n",
    "<img src=\"cell_executed.png\">\n",
    "\n",
    "Now we can use the <i>code</i> cell as a calculator by typing <i>3+1</i> in the current cell.  \n",
    "\n",
    "<img src=\"cell_calculator.png\">\n",
    "\n",
    "To run this cell we will typing <i>alt + enter</i> to demonstrate how to run the present cell and insert a new cell below.  The result of the operation will be printed immediately below the current cell and before the insertion of the new cell.\n",
    "\n",
    "<img src=\"cell_code_executed.png\">\n",
    "\n",
    "It should be noted that evertime you run a cell the notebook is saved.  Additionally, the notebook will autosave every 180 seconds.  It is possible to easily <a href=\"https://www.webucator.com/blog/2016/03/change-default-autosave-interval-in-ipython-notebook/\">modify</a> this interval if desired. You can also manually save the notebook by using the save button in the toolbar. <br />\n",
    "\n",
    "If you would like to convert your notebook from .ipynb to a pdf, html, or other file format you can choose from the options found by navigating to <i>File</i> and <i>Download as</i>.  Another option is to use the <a href=\"http://jupyter.org/\">nbconverter</a> command.  You can also use <a href=\"http://nbviewer.jupyter.org/\">nbviewer</a> to view a static version of your notebook.\n",
    "\n",
    "Now you have seen the basics for opening a notebook, as well as inserting and executing cells.  The remainder of this section will provide some additional information specific to the different cell types.\n",
    "\n",
    "\n",
    "### Markdown Cells\n",
    "In addition to the plain text we have already discussed, there are a number of useful features that can be added to the a markdown cell.  We will explore a few of these options below. <br />\n",
    "\n",
    "Headers are useful when developing your notebook.  Using the <i>#</i> symbol before text in a markdown cell provides a quick method for creating standard headers.  Adding additional <i>#</i> symbols decreases the header size as shown below.\n",
    "\n",
    "<img src=\"headers.png\">\n",
    "\n",
    "Latex can be added to markdown cells by adding <i>$</i> (inline) or <i>$$</i> (new line) before and after the desired text, such as the example below.\n",
    "\n",
    "<img src=\"latex.png\">\n",
    "\n",
    "After running the cell the equation is seamless merged into the notebook.\n",
    "\n",
    "<img src=\"latex_run.png\">\n",
    "\n",
    "There are many HTML5 based features that can be used in markdown cells.  For example, you can modify text, add figures, and insert hyperlinks.  \n",
    "\n",
    "To create <i>italic</i> text type:\n",
    "$$ \\textrm{<i>italic</i>} $$\n",
    "\n",
    "To add an image named figure.png (in your local directory):\n",
    "$$ \\textrm{<img src =\"figure.png\">} $$\n",
    "\n",
    "To add hyperlinks to urls:\n",
    "$$ \\textrm{<a href=\"http://jupyter.org/\">Jupyter</a>} $$\n",
    "\n",
    "There are many other HTML5 features you can explore, but these should get you started.  The best way to learn is to start developing your notebook and test different features that interest you.\n",
    "\n",
    "\n",
    "### Code Cells\n",
    "A code cell behaves exactly like an ipython shell, allowing you to run Python code inline. This also provides tab completion while developing code in your notebook.  As a simple example, you can define and add variables.     \n",
    "\n",
    "<img src =\"code_calc.png\">\n",
    "\n",
    "You can do something more complex such as loading packages to create nice figures.\n",
    "\n",
    "<img src =\"mark_plot.png\">\n",
    "\n",
    "The next section will provide a brief tutorial for writing Python.  Additionally, you can find more <a href=\"https://www.python.org/\">information</a> and <a href=\"https://www.datacamp.com/courses/intro-to-python-for-data-science\">tutorials</a> online that will go into greater detail.\n",
    "\n"
   ]
  },
  {
   "cell_type": "markdown",
   "metadata": {},
   "source": [
    "<a id=\"PythonBasics\"></a>\n",
    "# Python Basics"
   ]
  },
  {
   "cell_type": "markdown",
   "metadata": {},
   "source": [
    "This section will provide a brief introduction to Python for those that are not familar with the language.  The following section provides links for additional information if needed. </br >\n",
    "\n",
    "### Data Types\n",
    "Python supports five basic data types: numbers, strings, lists, tuples, and dictionaries.  One of the advantages of Python is that variables do not require explicit declaration. The declaration happens automatically when you assign a value to a variable.  Below is an introduction to these data types and some of their relevant operators.<br />\n",
    "\n",
    "#### Numbers\n",
    "Furthermore, a there are four numerical types: signed integers, long integers, floating point real values, and complex numbers.  Once again, Python automatically handles the proper type assignment.  For example, an integer and floating point variable are declared exactly the same.  "
   ]
  },
  {
   "cell_type": "code",
   "execution_count": 18,
   "metadata": {
    "collapsed": false
   },
   "outputs": [],
   "source": [
    "counter = 100          # An integer assignment\n",
    "miles   = 1000.0       # A floating point"
   ]
  },
  {
   "cell_type": "code",
   "execution_count": 19,
   "metadata": {
    "collapsed": false
   },
   "outputs": [
    {
     "name": "stdout",
     "output_type": "stream",
     "text": [
      "100\n",
      "1000.0\n"
     ]
    }
   ],
   "source": [
    "print counter\n",
    "print miles"
   ]
  },
  {
   "cell_type": "markdown",
   "metadata": {},
   "source": [
    "#### Strings\n",
    "Strings in Python are declared by a set of characters inside single or double quotation marks.  Subsets of strings can be selected using the slice operator ([ ] and [:] ).  Note that the indexing starts at 0, and can also work from the end of the string at -1.  The concatenation (+) and repetition (*) repetition operators are permissable on strings."
   ]
  },
  {
   "cell_type": "code",
   "execution_count": 36,
   "metadata": {
    "collapsed": false
   },
   "outputs": [
    {
     "name": "stdout",
     "output_type": "stream",
     "text": [
      "Welcome to FIESTA2017\n",
      "W\n",
      "7\n",
      "lco\n",
      "lcome to FIESTA2017\n",
      "Welcome to FIESTA2017Welcome to FIESTA2017\n",
      "Patrick Talou says: Welcome to FIESTA2017\n"
     ]
    }
   ],
   "source": [
    "str = 'Welcome to FIESTA2017'\n",
    "\n",
    "print str          # Prints complete string\n",
    "print str[0]      # Prints the first character of the string\n",
    "print str[-1]      # Prints the last character of the string\n",
    "print str[2:5]     # Prints characters starting from 3rd to 5th\n",
    "print str[2:]      # Prints string starting from 3rd character\n",
    "print str * 2      # Prints string two times\n",
    "print \"Patrick Talou says: \" + str # Prints concatenated string"
   ]
  },
  {
   "cell_type": "markdown",
   "metadata": {},
   "source": [
    "#### Lists\n",
    "Lists are highly versatile, similar to arrays in C, except that the items can by of different data types. A list contains items separated by commas and enclosed within square brackets ([]). To some extent, lists are similar to arrays in C. One difference between them is that all the items belonging to a list can be of different data type.  The slice operator ([ ] and [:]) is valid for lists with the same indexing as for strings, and again the concatenation and repetition operators are valid."
   ]
  },
  {
   "cell_type": "code",
   "execution_count": 27,
   "metadata": {
    "collapsed": false
   },
   "outputs": [
    {
     "name": "stdout",
     "output_type": "stream",
     "text": [
      "['Los Alamos', 2017, 17, 'FIESTA', 22]\n",
      "Los Alamos\n",
      "FIESTA\n",
      "[2017, 17]\n",
      "[17, 'FIESTA', 22]\n",
      "[123, 'john', 123, 'john']\n",
      "['Los Alamos', 2017, 17, 'FIESTA', 22, 'Los Alamos', 2017, 17, 'FIESTA', 22]\n"
     ]
    }
   ],
   "source": [
    "list = [ 'Los Alamos', 2017 , 17, 'FIESTA', 22 ]\n",
    "\n",
    "print list          # Prints complete list\n",
    "print list[0]       # Prints first element of the list\n",
    "print list[-2]      # Prints 2nd to last element of the list\n",
    "print list[1:3]     # Prints elements starting from 2nd till 3rd \n",
    "print list[2:]      # Prints elements starting from 3rd element\n",
    "print tinylist * 2  # Prints list two times\n",
    "print list + list   # Prints concatenated lists"
   ]
  },
  {
   "cell_type": "markdown",
   "metadata": {},
   "source": [
    "#### Tuple\n",
    "Tuples are similar to the list in that both are contain sequential data, but tuples are declared within parentheses.  Furthermore, the elements and size of lists can be changed, while tuples cannot be updated. You should implement tuples as read-only lists.  Once again, the slice, concatenation, and repetition operators are valid on tuples."
   ]
  },
  {
   "cell_type": "code",
   "execution_count": 28,
   "metadata": {
    "collapsed": false
   },
   "outputs": [
    {
     "name": "stdout",
     "output_type": "stream",
     "text": [
      "['Los Alamos', 2017, 17, 'FIESTA', 22]\n",
      "Los Alamos\n",
      "FIESTA\n",
      "[2017, 17]\n",
      "[17, 'FIESTA', 22]\n",
      "[123, 'john', 123, 'john']\n",
      "['Los Alamos', 2017, 17, 'FIESTA', 22, 'Los Alamos', 2017, 17, 'FIESTA', 22]\n"
     ]
    }
   ],
   "source": [
    "tuple = ( 'Los Alamos', 2017 , 17, 'FIESTA', 22  )\n",
    "\n",
    "print list          # Prints complete list\n",
    "print list[0]       # Prints first element of the list\n",
    "print list[-2]      # Prints 2nd to last element of the list\n",
    "print list[1:3]     # Prints elements starting from 2nd till 3rd \n",
    "print list[2:]      # Prints elements starting from 3rd element\n",
    "print tinylist * 2  # Prints list two times\n",
    "print list + list   # Prints concatenated lists"
   ]
  },
  {
   "cell_type": "markdown",
   "metadata": {},
   "source": [
    "#### Dictionaries\n",
    "Dictionaries are declared by curly braces ({ }) and individual values can be assigned and accessed using square braces ([]).  Dictionaries are similar hash tables in that they operate consist of key-value pairs. A dictionary key can be almost any Python type, but are usually numbers or strings, whereas the values can be any Python object."
   ]
  },
  {
   "cell_type": "code",
   "execution_count": 35,
   "metadata": {
    "collapsed": false
   },
   "outputs": [
    {
     "name": "stdout",
     "output_type": "stream",
     "text": [
      "Name\n",
      "Address\n",
      "{2: 'Address', 'One': 'Name'}\n",
      "['Charge', 'Mass', 'Particle']\n",
      "[1, 1.007, 'proton']\n"
     ]
    }
   ],
   "source": [
    "dict1 = {} \n",
    "dict1['One'] = \"Name\"\n",
    "dict1[2] = \"Address\"\n",
    "dict2 = {'Particle': 'proton','Charge':+1, 'Mass': 1.007}\n",
    "\n",
    "\n",
    "print dict1['One']       # Prints value for 'one' key\n",
    "print dict1[2]           # Prints value for 2 key\n",
    "print dict1          # Prints complete dictionary\n",
    "print dict2.keys()   # Prints all the keys\n",
    "print dict2.values() # Prints all the values"
   ]
  },
  {
   "cell_type": "markdown",
   "metadata": {},
   "source": [
    "### Libraries\n",
    "There are multiple Python libraries that might be useful for developing your notebook.  Below we will briefly introduce you to some of the more common libraries, but you might also be interested in this <a href=\"https://pythontips.com/2013/07/30/20-python-libraries-you-cant-live-without/\">list</a> for more options. \n",
    "\n",
    "#### NumPy\n",
    "<a href=\"http://www.numpy.org/\">NumPy</a> is the primary Python library for scientific computing. NumPy arrays (<a href=\"https://docs.scipy.org/doc/numpy-1.12.0/reference/generated/numpy.ndarray.html\">ndarrays</a>) and their associated methods are the primary benefit of this library.  <br />\n",
    "\n",
    "NumPy arrays are initialized using nested Python lists and elements are acceseds using square brackets.  Individual elements must be of the same type and are indexed by a tuple of nonnegative integers.<br />\n"
   ]
  },
  {
   "cell_type": "code",
   "execution_count": 90,
   "metadata": {
    "collapsed": false
   },
   "outputs": [
    {
     "name": "stdout",
     "output_type": "stream",
     "text": [
      "<type 'numpy.ndarray'>\n",
      "(2, 3)\n",
      "1 2 6\n",
      "[[9 2 3]\n",
      " [4 5 6]]\n"
     ]
    }
   ],
   "source": [
    "import numpy as np\n",
    "a = np.array([[1,2,3],[4,5,6]])  # Create a rank 2 array\n",
    "print type(a)                    # Prints \"<type 'numpy.ndarray'>\"\n",
    "print a.shape                    # Prints \"(2,3)\"\n",
    "print a[0, 0], a[0, 1], a[1, 2]  # Prints \"1 2 6\"\n",
    "a[0,0] = 9                       # Change an element of the array\n",
    "print a                          # Prints \"[[9, 2, 3][4 5 6]]\""
   ]
  },
  {
   "cell_type": "markdown",
   "metadata": {},
   "source": [
    "There are multiple ways to index numpy arrays: slicing (similar to Python lists), integer indexing, and boolen indexing."
   ]
  },
  {
   "cell_type": "code",
   "execution_count": 99,
   "metadata": {
    "collapsed": false
   },
   "outputs": [
    {
     "name": "stdout",
     "output_type": "stream",
     "text": [
      "2\n",
      "31\n",
      "[1 4 6]\n",
      "[1 4 6]\n",
      "[[False  True]\n",
      " [ True  True]\n",
      " [ True  True]]\n",
      "[31  3  4  5  6]\n",
      "[31  3  4  5  6]\n"
     ]
    }
   ],
   "source": [
    "b = np.array([[1,2], [3, 4], [5, 6]])\n",
    "\n",
    "# Slicing\n",
    "c = b[:1, 1:2]  \n",
    "print c[0, 0]   # Prints \"2\"\n",
    "c[0, 0] = 31    # Change an element of the array\n",
    "print c[0, 0]   # Prints \"31\"\n",
    "\n",
    "# Integer indexing\n",
    "print b[[0, 1, 2], [0, 1, 1]]  # Prints \"[1 4 6]\"\n",
    "print np.array([b[0, 0], b[1, 1], b[2, 1]])  # Prints \"[1 4 6]\"\n",
    "\n",
    "# Boolen indexing\n",
    "bool_idx = (b > 2)  # Returns numpy array of Booleans where b>2       \n",
    "print bool_idx      # Prints \"[[False True][ True  True][ True  True]]\"\n",
    "print b[bool_idx]  # Prints \"[31 3 4 5 6]\"\n",
    "print b[b > 2]     # Prints \"[31 3 4 5 6]\" "
   ]
  },
  {
   "cell_type": "markdown",
   "metadata": {},
   "source": [
    "There are many online tutorials that will go into greater detail and cover methods for creating and manipulating numpy arrays.  As you start to design your notebook and exercise you will likely find these arrays to be quite useful.<br />"
   ]
  },
  {
   "cell_type": "markdown",
   "metadata": {},
   "source": [
    "#### Matplotlib\n",
    "<a href=\"https://matplotlib.org/\">Matplotlib</a> is perhaps the most well known 2D-graphics library for Python.  We can make a simple 2D-plot with both a sin and cos function.  First, we create a NumPy array for the x-values and then evaulate each function over these values.  Finally, we can plot each function and display the plot."
   ]
  },
  {
   "cell_type": "code",
   "execution_count": 103,
   "metadata": {
    "collapsed": false
   },
   "outputs": [
    {
     "data": {
      "image/png": "iVBORw0KGgoAAAANSUhEUgAAAXwAAAEACAYAAACwB81wAAAABHNCSVQICAgIfAhkiAAAAAlwSFlz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\n",
      "text/plain": [
       "<matplotlib.figure.Figure at 0x7f0e180b1cd0>"
      ]
     },
     "metadata": {},
     "output_type": "display_data"
    }
   ],
   "source": [
    "import numpy as np\n",
    "import matplotlib.pyplot as plt\n",
    "%matplotlib inline \n",
    "\n",
    "X = np.linspace(-np.pi, np.pi, 256, endpoint=True)\n",
    "C,S = np.cos(X), np.sin(X)\n",
    "\n",
    "plt.plot(X,C)\n",
    "plt.plot(X,S)\n",
    "\n",
    "plt.show()"
   ]
  },
  {
   "cell_type": "markdown",
   "metadata": {},
   "source": [
    "We can define the exact location and format for the tick marks on the x and y-axis.  "
   ]
  },
  {
   "cell_type": "code",
   "execution_count": 110,
   "metadata": {
    "collapsed": false
   },
   "outputs": [
    {
     "data": {
      "image/png": "iVBORw0KGgoAAAANSUhEUgAAAXYAAAEICAYAAABLdt/UAAAABHNCSVQICAgIfAhkiAAAAAlwSFlz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\n2IUQwmGksAshhMP8H6Mj4IkbvC2xAAAAAElFTkSuQmCC\n",
      "text/plain": [
       "<matplotlib.figure.Figure at 0x7f0df0986290>"
      ]
     },
     "metadata": {},
     "output_type": "display_data"
    }
   ],
   "source": [
    "plt.xticks([-np.pi, -np.pi/2, 0, np.pi/2, np.pi],[r'$-\\pi$', r'$-\\pi/2$', r'$0$', r'$+\\pi/2$', r'$+\\pi$'])\n",
    "plt.yticks([-1, 0, +1],[r'$-1$', r'$0$', r'$+1$'])\n",
    "\n",
    "plt.plot(X,C)\n",
    "plt.plot(X,S)\n",
    "plt.show()"
   ]
  },
  {
   "cell_type": "markdown",
   "metadata": {},
   "source": [
    "We can re-plot the functions, this time defining plotting features for each curve and adding a legend with specified location."
   ]
  },
  {
   "cell_type": "code",
   "execution_count": 111,
   "metadata": {
    "collapsed": false
   },
   "outputs": [
    {
     "data": {
      "image/png": "iVBORw0KGgoAAAANSUhEUgAAAXYAAAEICAYAAABLdt/UAAAABHNCSVQICAgIfAhkiAAAAAlwSFlz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\nHZPCHhHRMb8B+x3vDzUde0UAAAAASUVORK5CYII=\n",
      "text/plain": [
       "<matplotlib.figure.Figure at 0x7f0df0ac1b90>"
      ]
     },
     "metadata": {},
     "output_type": "display_data"
    }
   ],
   "source": [
    "plt.plot(X, C, color=\"blue\", linewidth=2.5, linestyle=\"-\", label=\"cosine\")\n",
    "plt.plot(X, S, color=\"red\",  linewidth=2.5, linestyle=\"-\", label=\"sine\")\n",
    "plt.legend(loc='upper left', frameon=False)\n",
    "plt.xticks([-np.pi, -np.pi/2, 0, np.pi/2, np.pi],[r'$-\\pi$', r'$-\\pi/2$', r'$0$', r'$+\\pi/2$', r'$+\\pi$'])\n",
    "plt.yticks([-1, 0, +1],[r'$-1$', r'$0$', r'$+1$'])\n",
    "\n",
    "plt.plot(X,C)\n",
    "plt.plot(X,S)\n",
    "plt.show()"
   ]
  },
  {
   "cell_type": "markdown",
   "metadata": {},
   "source": [
    "This is a very simple example of Matplotlib, but demonstrates how quickly you can make a highly customized figure using this library.  There is a wealth of information available in the links at the end of this tutorial that will further illustrate the features of Matplotlib."
   ]
  },
  {
   "cell_type": "markdown",
   "metadata": {},
   "source": [
    "#### SciPy, PyROOT, and More \n",
    "A mutltitude of other useful Python libraries can be found on the web.  The <a href=\"https://www.scipy.org/\">SciPy</a> library contains modules for optimization, linear algebra, integration, interpolation, special functions, FFT, signal and image processing, ODE solvers, and other common tasks.  <a href=\"https://root.cern.ch/pyroot\">PyROOT</a> and <a href=\"http://www.rootpy.org/\">rootpy</a> offer Python bindings for the ROOT class so that you can analyze and manipulate data in the ROOT format.  This <a href=\"https://www.upwork.com/hiring/data/15-python-libraries-data-science/\">list</a> provides a good look at some of the commonly used libraries you might find useful for developing your notebook. "
   ]
  },
  {
   "cell_type": "markdown",
   "metadata": {},
   "source": [
    "<a id=\"AddInfo\"></a>\n",
    "# Additional Information"
   ]
  },
  {
   "cell_type": "markdown",
   "metadata": {},
   "source": [
    "<ul>\n",
    "<li><a href=\"http://jupyter.org/\">Jupyter</a>: interactive Python notebooks</li>\n",
    "<li><a href=\"http://maxmelnick.com/2016/04/19/python-beginner-tips-and-tricks.html\">Jupyter Shortcuts</a>: tips and tricks for Jupyter notebooks</li>\n",
    "<li><a href=\"https://www.dataquest.io/blog/jupyter-notebook-tips-tricks-shortcuts/\">Advanced Jupyter Shortcuts</a>: advanced tips and tricks for Jupyter notebooks</li>\n",
    "<li> <a href=\"https://www.datacamp.com/courses/intro-to-python-for-data-science\">Python</a>: python documention</li>\n",
    "<li><a href=\"http://www.ipython.org\">IPython</a>: interactive computing with Python</li>\n",
    "<li><a href=\"http://www.numpy.org\">NumPy</a>: numerical tools</li>\n",
    "<li><a href=\"http://www.scipy.org\">SciPy</a>: scientific tools</li>\n",
    "<li><a href=\"http://www.matplotlib.org\">Matplotlib</a>: plotting library</li>\n",
    "<li><a href=\"https://www.datacamp.com/courses/intro-to-python-for-data-science\">Python Introduction</a>: introduction to Python on Data Camp</li>\n",
    "<li><a href=\"https://www.datacamp.com/community/tutorials/tutorial-jupyter-notebook\">Jupyter Tutorial</a>: tutorial on Data Camp</li>\n",
    "<li><a href=\"https://plot.ly/python/ipython-notebook-tutorial/\">Jupyter Tutorial</a>: tutorial on Plotly</li>\n",
    "</ul>"
   ]
  }
 ],
 "metadata": {
  "kernelspec": {
   "display_name": "Python 2",
   "language": "python",
   "name": "python2"
  },
  "language_info": {
   "codemirror_mode": {
    "name": "ipython",
    "version": 2
   },
   "file_extension": ".py",
   "mimetype": "text/x-python",
   "name": "python",
   "nbconvert_exporter": "python",
   "pygments_lexer": "ipython2",
   "version": "2.7.11"
  }
 },
 "nbformat": 4,
 "nbformat_minor": 0
}
